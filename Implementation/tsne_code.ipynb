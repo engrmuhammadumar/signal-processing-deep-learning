{
 "cells": [
  {
   "cell_type": "code",
   "execution_count": 2,
   "metadata": {},
   "outputs": [],
   "source": [
    "import numpy as np\n",
    "import pandas as pd\n",
    "import os\n",
    "from scipy.io import loadmat\n",
    "from sklearn.model_selection import train_test_split\n",
    "from sklearn.ensemble import RandomForestClassifier\n",
    "from sklearn.metrics import accuracy_score, classification_report\n"
   ]
  },
  {
   "cell_type": "code",
   "execution_count": 3,
   "metadata": {},
   "outputs": [],
   "source": [
    "# Define the dataset directory paths for each class\n",
    "inner_dir = r'E:\\Bearings\\Dataset\\Bearing Dataset2\\Inner (1800)'\n",
    "outer_dir = r'E:\\Bearings\\Dataset\\Bearing Dataset2\\Outer (1800)'\n",
    "roller_dir = r'E:\\Bearings\\Dataset\\Bearing Dataset2\\Roller (1800)'\n",
    "normal_dir = r'E:\\Bearings\\Dataset\\Bearing Dataset2\\Normal (1800)'\n",
    "\n",
    "# Function to load .mat files from a directory and extract data\n",
    "def load_mat_files(directory, label):\n",
    "    data = []\n",
    "    labels = []\n",
    "    for file in os.listdir(directory):\n",
    "        if file.endswith(\".mat\"):\n",
    "            file_path = os.path.join(directory, file)\n",
    "            mat_data = loadmat(file_path)\n",
    "            # Assuming the signal is stored under the key 'signal' in the .mat file\n",
    "            signal = mat_data['signal']\n",
    "            data.append(signal)\n",
    "            labels.append(label)\n",
    "    return data, labels\n",
    "\n",
    "# Load data for each fault class\n",
    "inner_data, inner_labels = load_mat_files(inner_dir, 0)  # Label 0 for inner fault\n",
    "outer_data, outer_labels = load_mat_files(outer_dir, 1)  # Label 1 for outer fault\n",
    "roller_data, roller_labels = load_mat_files(roller_dir, 2)  # Label 2 for roller fault\n",
    "normal_data, normal_labels = load_mat_files(normal_dir, 3)  # Label 3 for normal condition\n",
    "\n",
    "# Combine all the data and labels\n",
    "X = np.concatenate((inner_data, outer_data, roller_data, normal_data), axis=0)\n",
    "y = np.concatenate((inner_labels, outer_labels, roller_labels, normal_labels), axis=0)\n"
   ]
  },
  {
   "cell_type": "code",
   "execution_count": 4,
   "metadata": {},
   "outputs": [],
   "source": [
    "# Split the data into training and test sets\n",
    "X_train, X_test, y_train, y_test = train_test_split(X, y, test_size=0.2, random_state=42)\n"
   ]
  },
  {
   "cell_type": "code",
   "execution_count": 6,
   "metadata": {},
   "outputs": [
    {
     "name": "stdout",
     "output_type": "stream",
     "text": [
      "(1370, 50000)\n",
      "Test Accuracy: 0.65\n",
      "              precision    recall  f1-score   support\n",
      "\n",
      "           0       0.50      0.79      0.61        72\n",
      "           1       0.63      0.51      0.57        74\n",
      "           2       0.62      0.31      0.41        65\n",
      "           3       0.94      1.00      0.97        63\n",
      "\n",
      "    accuracy                           0.65       274\n",
      "   macro avg       0.67      0.65      0.64       274\n",
      "weighted avg       0.67      0.65      0.63       274\n",
      "\n"
     ]
    }
   ],
   "source": [
    "# Reshape the data to 2D (samples x features)\n",
    "X_reshaped = X.reshape(X.shape[0], -1)  # Flatten the time steps and features for each sample\n",
    "\n",
    "# Check the new shape of X\n",
    "print(X_reshaped.shape)  # Should print something like (n_samples, n_timesteps * n_features)\n",
    "\n",
    "# Now use X_reshaped for training\n",
    "X_train, X_test, y_train, y_test = train_test_split(X_reshaped, y, test_size=0.2, random_state=42)\n",
    "\n",
    "# Train the Random Forest classifier\n",
    "clf = RandomForestClassifier(n_estimators=100, random_state=42)\n",
    "clf.fit(X_train, y_train)\n",
    "\n",
    "# Make predictions\n",
    "y_pred = clf.predict(X_test)\n",
    "\n",
    "# Evaluate the model\n",
    "accuracy = accuracy_score(y_test, y_pred)\n",
    "print(f\"Test Accuracy: {accuracy:.2f}\")\n",
    "\n",
    "# Detailed classification report\n",
    "print(classification_report(y_test, y_pred))\n"
   ]
  },
  {
   "cell_type": "code",
   "execution_count": null,
   "metadata": {},
   "outputs": [],
   "source": []
  }
 ],
 "metadata": {
  "kernelspec": {
   "display_name": "Python 3",
   "language": "python",
   "name": "python3"
  },
  "language_info": {
   "codemirror_mode": {
    "name": "ipython",
    "version": 3
   },
   "file_extension": ".py",
   "mimetype": "text/x-python",
   "name": "python",
   "nbconvert_exporter": "python",
   "pygments_lexer": "ipython3",
   "version": "3.12.5"
  }
 },
 "nbformat": 4,
 "nbformat_minor": 2
}
